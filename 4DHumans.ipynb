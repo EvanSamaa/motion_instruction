{
  "cells": [
    {
      "cell_type": "markdown",
      "metadata": {
        "id": "KH6h3ljStKEV"
      },
      "source": [
        "# 4DHumans Demo Notebook\n",
        "This a demo notebook for our paper \"4DHumans: Reconstructing and Tracking Humans with Transformers\".\n",
        "\n",
        "<p align=\"left\"><img src=\"https://github.com/shubham-goel/4D-Humans/raw/main/assets/teaser.png\" width=\"800\"></p>\n",
        "\n",
        "<p align=\"left\"><img src=\"https://github.com/brjathu/PHALP/raw/master/assets/imgs/teaser.gif\" width=\"800\"></p>\n",
        "\n",
        "Project webpage: https://shubham-goel.github.io/4dhumans/\n",
        "\n",
        "Github repo: https://github.com/shubham-goel/4D-Humans\n",
        "\n",
        "Instructions:\n",
        "\n",
        "1. Enable the GPU Runtime (Runtime > Change Runtime Type > GPU)\n",
        "2. Clone the repository and install depencencies\n",
        "3. Run the demo\n",
        "4. Visualize the video\n"
      ]
    },
    {
      "cell_type": "markdown",
      "metadata": {
        "id": "5Grc-NDsvJ2d"
      },
      "source": [
        "# Clone the repository and install dependencies"
      ]
    },
    {
      "cell_type": "code",
      "execution_count": null,
      "metadata": {
        "id": "nHlxjgrdtePu"
      },
      "outputs": [],
      "source": [
        "# Clone the main repo\n",
        "%%capture\n",
        "! git clone https://github.com/shubham-goel/4D-Humans.git 4D-Humans\n",
        "%cd 4D-Humans"
      ]
    },
    {
      "cell_type": "code",
      "execution_count": null,
      "metadata": {
        "colab": {
          "base_uri": "https://localhost:8080/",
          "height": 1000
        },
        "id": "urCqVANctz2s",
        "outputId": "f98d4314-09a5-4227-e71e-b08ebbb16b29"
      },
      "outputs": [],
      "source": [
        "!pip install torch\n",
        "!pip install -e .[all]\n",
        "!wget https://github.com/classner/up/raw/master/models/3D/basicModel_neutral_lbs_10_207_0_v1.0.0.pkl\n",
        "!mkdir data/\n",
        "!mv basicModel_neutral_lbs_10_207_0_v1.0.0.pkl data/"
      ]
    },
    {
      "cell_type": "markdown",
      "metadata": {
        "id": "DKpHRz1BvdlZ"
      },
      "source": [
        "# Run the demo"
      ]
    },
    {
      "cell_type": "code",
      "execution_count": null,
      "metadata": {
        "colab": {
          "base_uri": "https://localhost:8080/"
        },
        "id": "jpu-yVB0vw1N",
        "outputId": "234bc32a-6c5f-43eb-e96c-7fe38ed18518"
      },
      "outputs": [],
      "source": [
        "# run hmr2 on a folder of images\n",
        "!python demo.py \\\n",
        "--img_folder example_data/images \\\n",
        "--out_folder demo_out \\\n",
        "--batch_size=48 --side_view --save_mesh"
      ]
    },
    {
      "cell_type": "markdown",
      "metadata": {
        "id": "o0BhB4EzwhKb"
      },
      "source": [
        "### Visualize the reconstructions"
      ]
    },
    {
      "cell_type": "code",
      "execution_count": null,
      "metadata": {
        "colab": {
          "base_uri": "https://localhost:8080/",
          "height": 273
        },
        "id": "5L3jrsbLwme3",
        "outputId": "0b57587f-aba5-4976-8667-349f1b17725b"
      },
      "outputs": [],
      "source": [
        "from IPython.display import Image, display\n",
        "import os\n",
        "# https://colab.research.google.com/drive/1Ex4gE5v1bPR3evfhtG7sDHxQGsWwNwby?usp=sharing\n",
        "output_images = [\"demo_out/\" + i for i in os.listdir(\"demo_out/\") if \".png\" in i]\n",
        "for img in output_images:\n",
        "  display(Image(img))\n",
        "\n"
      ]
    },
    {
      "cell_type": "markdown",
      "metadata": {
        "id": "tIL8JadpwE0s"
      },
      "source": [
        "# Video Demo"
      ]
    },
    {
      "cell_type": "markdown",
      "metadata": {
        "id": "DVSxpGVrePtl"
      },
      "source": [
        "### Install PHALP"
      ]
    },
    {
      "cell_type": "code",
      "execution_count": null,
      "metadata": {
        "colab": {
          "base_uri": "https://localhost:8080/"
        },
        "id": "p4sNUOQZwG82",
        "outputId": "d8ddd141-874b-4f85-c7c2-036d4971eb9a"
      },
      "outputs": [],
      "source": [
        "!pip install git+https://github.com/brjathu/PHALP.git"
      ]
    },
    {
      "cell_type": "markdown",
      "metadata": {
        "id": "MQc_CVQRegJT"
      },
      "source": [
        "### Track and visualize"
      ]
    },
    {
      "cell_type": "code",
      "execution_count": null,
      "metadata": {
        "colab": {
          "base_uri": "https://localhost:8080/"
        },
        "id": "XgkRdPF6yTBC",
        "outputId": "6d7a872c-5cde-46cd-e32a-452ddeb5ece4"
      },
      "outputs": [],
      "source": [
        "!python track.py video.source=\"example_data/videos/gymnasts.mp4\" video.start_frame=10 video.end_frame=60"
      ]
    },
    {
      "cell_type": "code",
      "execution_count": 1,
      "metadata": {
        "colab": {
          "base_uri": "https://localhost:8080/"
        },
        "id": "zGLvO4sz5o2S",
        "outputId": "373410d8-7c03-4039-c442-b418ef4c3bd6"
      },
      "outputs": [
        {
          "name": "stdout",
          "output_type": "stream",
          "text": [
            "^C\n"
          ]
        },
        {
          "ename": "FileNotFoundError",
          "evalue": "[Errno 2] No such file or directory: 'outputs/PHALP_gymnasts_ffmpeg.mp4'",
          "output_type": "error",
          "traceback": [
            "\u001b[0;31m---------------------------------------------------------------------------\u001b[0m",
            "\u001b[0;31mFileNotFoundError\u001b[0m                         Traceback (most recent call last)",
            "Cell \u001b[0;32mIn[1], line 12\u001b[0m\n\u001b[1;32m      7\u001b[0m   \u001b[38;5;28;01mreturn\u001b[39;00m HTML(data\u001b[38;5;241m=\u001b[39m\u001b[38;5;124m'''\u001b[39m\u001b[38;5;124m<video width=\u001b[39m\u001b[38;5;124m\"\u001b[39m\u001b[38;5;132;01m{0}\u001b[39;00m\u001b[38;5;124m\"\u001b[39m\u001b[38;5;124m height=\u001b[39m\u001b[38;5;124m\"\u001b[39m\u001b[38;5;132;01m{1}\u001b[39;00m\u001b[38;5;124m\"\u001b[39m\u001b[38;5;124m alt=\u001b[39m\u001b[38;5;124m\"\u001b[39m\u001b[38;5;124mtest\u001b[39m\u001b[38;5;124m\"\u001b[39m\u001b[38;5;124m controls>\u001b[39m\n\u001b[1;32m      8\u001b[0m \u001b[38;5;124m                      <source src=\u001b[39m\u001b[38;5;124m\"\u001b[39m\u001b[38;5;124mdata:video/mp4;base64,\u001b[39m\u001b[38;5;132;01m{2}\u001b[39;00m\u001b[38;5;124m\"\u001b[39m\u001b[38;5;124m type=\u001b[39m\u001b[38;5;124m\"\u001b[39m\u001b[38;5;124mvideo/mp4\u001b[39m\u001b[38;5;124m\"\u001b[39m\u001b[38;5;124m />\u001b[39m\n\u001b[1;32m      9\u001b[0m \u001b[38;5;124m                      </video>\u001b[39m\u001b[38;5;124m'''\u001b[39m\u001b[38;5;241m.\u001b[39mformat(width, height, video_encoded\u001b[38;5;241m.\u001b[39mdecode(\u001b[38;5;124m'\u001b[39m\u001b[38;5;124mascii\u001b[39m\u001b[38;5;124m'\u001b[39m)))\n\u001b[1;32m     11\u001b[0m get_ipython()\u001b[38;5;241m.\u001b[39msystem(\u001b[38;5;124m'\u001b[39m\u001b[38;5;124mffmpeg -y -hide_banner -loglevel error -i outputs/PHALP_gymnasts.mp4 outputs/PHALP_gymnasts_ffmpeg.mp4\u001b[39m\u001b[38;5;124m'\u001b[39m)\n\u001b[0;32m---> 12\u001b[0m \u001b[43mshow_local_mp4_video\u001b[49m\u001b[43m(\u001b[49m\u001b[38;5;124;43m'\u001b[39;49m\u001b[38;5;124;43moutputs/PHALP_gymnasts_ffmpeg.mp4\u001b[39;49m\u001b[38;5;124;43m'\u001b[39;49m\u001b[43m,\u001b[49m\u001b[43m \u001b[49m\u001b[43mwidth\u001b[49m\u001b[38;5;241;43m=\u001b[39;49m\u001b[38;5;241;43m960\u001b[39;49m\u001b[43m,\u001b[49m\u001b[43m \u001b[49m\u001b[43mheight\u001b[49m\u001b[38;5;241;43m=\u001b[39;49m\u001b[38;5;241;43m540\u001b[39;49m\u001b[43m)\u001b[49m\n",
            "Cell \u001b[0;32mIn[1], line 6\u001b[0m, in \u001b[0;36mshow_local_mp4_video\u001b[0;34m(file_name, width, height)\u001b[0m\n\u001b[1;32m      4\u001b[0m \u001b[38;5;28;01mimport\u001b[39;00m \u001b[38;5;21;01mbase64\u001b[39;00m\n\u001b[1;32m      5\u001b[0m \u001b[38;5;28;01mfrom\u001b[39;00m \u001b[38;5;21;01mIPython\u001b[39;00m\u001b[38;5;21;01m.\u001b[39;00m\u001b[38;5;21;01mdisplay\u001b[39;00m \u001b[38;5;28;01mimport\u001b[39;00m HTML\n\u001b[0;32m----> 6\u001b[0m video_encoded \u001b[38;5;241m=\u001b[39m base64\u001b[38;5;241m.\u001b[39mb64encode(\u001b[43mio\u001b[49m\u001b[38;5;241;43m.\u001b[39;49m\u001b[43mopen\u001b[49m\u001b[43m(\u001b[49m\u001b[43mfile_name\u001b[49m\u001b[43m,\u001b[49m\u001b[43m \u001b[49m\u001b[38;5;124;43m'\u001b[39;49m\u001b[38;5;124;43mrb\u001b[39;49m\u001b[38;5;124;43m'\u001b[39;49m\u001b[43m)\u001b[49m\u001b[38;5;241m.\u001b[39mread())\n\u001b[1;32m      7\u001b[0m \u001b[38;5;28;01mreturn\u001b[39;00m HTML(data\u001b[38;5;241m=\u001b[39m\u001b[38;5;124m'''\u001b[39m\u001b[38;5;124m<video width=\u001b[39m\u001b[38;5;124m\"\u001b[39m\u001b[38;5;132;01m{0}\u001b[39;00m\u001b[38;5;124m\"\u001b[39m\u001b[38;5;124m height=\u001b[39m\u001b[38;5;124m\"\u001b[39m\u001b[38;5;132;01m{1}\u001b[39;00m\u001b[38;5;124m\"\u001b[39m\u001b[38;5;124m alt=\u001b[39m\u001b[38;5;124m\"\u001b[39m\u001b[38;5;124mtest\u001b[39m\u001b[38;5;124m\"\u001b[39m\u001b[38;5;124m controls>\u001b[39m\n\u001b[1;32m      8\u001b[0m \u001b[38;5;124m                    <source src=\u001b[39m\u001b[38;5;124m\"\u001b[39m\u001b[38;5;124mdata:video/mp4;base64,\u001b[39m\u001b[38;5;132;01m{2}\u001b[39;00m\u001b[38;5;124m\"\u001b[39m\u001b[38;5;124m type=\u001b[39m\u001b[38;5;124m\"\u001b[39m\u001b[38;5;124mvideo/mp4\u001b[39m\u001b[38;5;124m\"\u001b[39m\u001b[38;5;124m />\u001b[39m\n\u001b[1;32m      9\u001b[0m \u001b[38;5;124m                    </video>\u001b[39m\u001b[38;5;124m'''\u001b[39m\u001b[38;5;241m.\u001b[39mformat(width, height, video_encoded\u001b[38;5;241m.\u001b[39mdecode(\u001b[38;5;124m'\u001b[39m\u001b[38;5;124mascii\u001b[39m\u001b[38;5;124m'\u001b[39m)))\n",
            "\u001b[0;31mFileNotFoundError\u001b[0m: [Errno 2] No such file or directory: 'outputs/PHALP_gymnasts_ffmpeg.mp4'"
          ]
        }
      ],
      "source": [
        "# Display the reconstruction video\n",
        "def show_local_mp4_video(file_name, width=640, height=480):\n",
        "  import io\n",
        "  import base64\n",
        "  from IPython.display import HTML\n",
        "  video_encoded = base64.b64encode(io.open(file_name, 'rb').read())\n",
        "  return HTML(data='''<video width=\"{0}\" height=\"{1}\" alt=\"test\" controls>\n",
        "                      <source src=\"data:video/mp4;base64,{2}\" type=\"video/mp4\" />\n",
        "                      </video>'''.format(width, height, video_encoded.decode('ascii')))\n",
        "\n",
        "!ffmpeg -y -hide_banner -loglevel error -i outputs/PHALP_gymnasts.mp4 outputs/PHALP_gymnasts_ffmpeg.mp4\n",
        "show_local_mp4_video('outputs/PHALP_gymnasts_ffmpeg.mp4', width=960, height=540)"
      ]
    },
    {
      "cell_type": "markdown",
      "metadata": {},
      "source": [
        "# Visualize with Polyscope"
      ]
    },
    {
      "cell_type": "code",
      "execution_count": 1,
      "metadata": {},
      "outputs": [],
      "source": [
        "import pickle as pkl\n",
        "import gzip\n",
        "# joblib is used to load the model outputs\n",
        "import joblib\n",
        "import polyscope as ps\n",
        "import polyscope.imgui as psim\n",
        "from matplotlib import pyplot as plt\n",
        "import os, sys\n",
        "import numpy as np\n",
        "import cv2\n",
        "from scipy.interpolate import interp1d\n",
        "from scipy.spatial.transform import Slerp\n",
        "from scipy.spatial.transform import Rotation as R\n",
        "\n",
        "sys.path.insert(0, os.path.abspath(\"/scratch/ondemand27/evanpan/motion_instruction/smpl\"))\n",
        "sys.path.insert(0, os.path.abspath(\"/Users/evanpan/Documents/GitHub/Motion_instruction/smpl\"))\n",
        "from smpl_np import SMPLModel\n",
        "# from smpl.smpl_webuser.serialization import load_model\n",
        "# from phalp.utils import smpl_utils"
      ]
    },
    {
      "cell_type": "code",
      "execution_count": 2,
      "metadata": {},
      "outputs": [],
      "source": [
        "# %matplotlib widget\n",
        "%matplotlib inline\n",
        "%load_ext autoreload\n",
        "%autoreload 1"
      ]
    },
    {
      "cell_type": "code",
      "execution_count": 3,
      "metadata": {},
      "outputs": [],
      "source": [
        "\n",
        "motionData_path = \"./4D-Humans_outputs/results/demo_biggerspin1.pkl\"\n",
        "motiondata = joblib.load(open(motionData_path, \"rb\"))\n",
        "# load smpl model\n",
        "smpl = SMPLModel('./smpl/models/model.pkl')"
      ]
    },
    {
      "cell_type": "markdown",
      "metadata": {},
      "source": [
        "## Load time-varying parameters"
      ]
    },
    {
      "cell_type": "code",
      "execution_count": 4,
      "metadata": {},
      "outputs": [],
      "source": [
        "def load_motion_data(motionData_path, main_guy):\n",
        "    # load motion data\n",
        "    motiondata = joblib.load(open(motionData_path, \"rb\"))\n",
        "    frames = sorted(list(motiondata.keys()))\n",
        "    per_frame_smpl_data = {\"time\":[], \"beta\":[], \"pose\":[], \"position\":[]}\n",
        "    for i in range(0, len(frames)):\n",
        "        frame_i = motiondata[frames[i]]\n",
        "        # print(frame_i.keys())\n",
        "        pose_i = frame_i[\"pose\"] # this stores a list of poses for characters in the \n",
        "        center_i = frame_i[\"center\"]\n",
        "        scale_i = frame_i[\"scale\"]\n",
        "        smpl_i = frame_i[\"smpl\"]\n",
        "        ids_i = frame_i['tid']\n",
        "        threeD_joints_i = frame_i['3d_joints']\n",
        "        # only care about the guy of interest\n",
        "        # print(ids_i)\n",
        "        if main_guy not in ids_i:\n",
        "            continue\n",
        "        pose_i_main = pose_i[ids_i.index(main_guy)]\n",
        "        threeD_joints_i_main = threeD_joints_i[ids_i.index(main_guy)] # shape is (43, 3)\n",
        "        smpl_i_main = smpl_i[ids_i.index(main_guy)] # dictionary with keys ['global_orient', 'body_pose', 'betas']\n",
        "        # get the smpl parameters\n",
        "        global_orient = smpl_i_main[\"global_orient\"] # defined root orentation (rotation matrix )\n",
        "        body_pose = smpl_i_main[\"body_pose\"] # defines the rotation matrix of the 23 joints (generated using Rodrigues formula)\n",
        "        beta = smpl_i_main[\"betas\"] # shape is (10,)\n",
        "        # convert rotation matrices in body pose to axis-angle representation\n",
        "        body_pose_aa = np.zeros((body_pose.shape[0], 3))\n",
        "        for jj in range(body_pose.shape[0]):\n",
        "            body_pose_aa[jj] = cv2.Rodrigues(body_pose[jj])[0].squeeze()\n",
        "        # rotate global_orient by 180 degrees by x axis\n",
        "        # global_orient[0] = cv2.Rodrigues(np.array([np.pi, 0, 0]))[0].squeeze() @ global_orient[0]\n",
        "        global_orient_aa = np.array([cv2.Rodrigues(global_orient[0])[0].squeeze()])\n",
        "        # check for discontinuities in the global orientation\n",
        "        if global_orient_aa[0, 0] < 0:\n",
        "            global_orient_aa *= -1\n",
        "                    \n",
        "        #             global_orient_aa[0][jj] *= -1\n",
        "        # global_orient_aa[np.where(global_orient_aa > np.pi)] -= 2*np.pi\n",
        "        # global_orient_aa[np.where(global_orient_aa < -np.pi)] += 2*np.pi\n",
        "        body_pose_aa = np.concatenate([global_orient_aa, body_pose_aa], axis=0)\n",
        "        # load data related to smpl model\n",
        "        per_frame_smpl_data[\"time\"].append(frame_i[\"time\"])\n",
        "        per_frame_smpl_data[\"beta\"].append(beta)\n",
        "        per_frame_smpl_data[\"pose\"].append(body_pose_aa)\n",
        "        per_frame_smpl_data[\"position\"].append(np.zeros([3, ]))\n",
        "    per_frame_smpl_data[\"beta\"] = np.array(per_frame_smpl_data[\"beta\"])\n",
        "    per_frame_smpl_data[\"pose\"] = np.array(per_frame_smpl_data[\"pose\"])\n",
        "    per_frame_smpl_data[\"position\"] = np.array(per_frame_smpl_data[\"position\"])\n",
        "    per_frame_smpl_data[\"time\"] = np.array(per_frame_smpl_data[\"time\"])\n",
        "\n",
        "    per_frame_smpl_data[\"pose_interp\"] = interp1d(per_frame_smpl_data[\"time\"], per_frame_smpl_data[\"pose\"], axis=0, fill_value=\"extrapolate\", bounds_error=False, kind=\"linear\")\n",
        "    \n",
        "    per_frame_smpl_data[\"beta_interp\"] = interp1d(per_frame_smpl_data[\"time\"], per_frame_smpl_data[\"beta\"], axis=0, fill_value=\"extrapolate\", bounds_error=False)\n",
        "    per_frame_smpl_data[\"position_interp\"] = interp1d(per_frame_smpl_data[\"time\"], per_frame_smpl_data[\"position\"], axis=0, fill_value=\"extrapolate\", bounds_error=False)\n",
        "    return per_frame_smpl_data\n",
        "    # print(per_frame_smpl_data[\"beta\"].shape, per_frame_smpl_data[\"pose\"].shape, per_frame_smpl_data[\"position\"].shape)\n"
      ]
    },
    {
      "cell_type": "markdown",
      "metadata": {},
      "source": [
        "## Visualize detected mesh"
      ]
    },
    {
      "cell_type": "code",
      "execution_count": 7,
      "metadata": {},
      "outputs": [],
      "source": [
        "class SlerpInterpolationMultiObject:\n",
        "    def __init__(self, timestamps, rotation_vectors):\n",
        "        \"\"\"\n",
        "        Initialize with timestamps and rotation vectors.   \n",
        "        :param timestamps: Array of shape [T], where T is the number of timestamps.\n",
        "        :param rotation_vectors: Array of shape [T, N, 3], where N is the number of objects,\n",
        "                                 and each rotation vector is 3D.\n",
        "        \"\"\"\n",
        "        self.timestamps = np.array(timestamps)\n",
        "        self.rotations = []\n",
        "        self.rotations_interps = []\n",
        "        for i in range(0, rotation_vectors.shape[1]):\n",
        "            self.rotations.append(R.from_rotvec(rotation_vectors[:, i]))\n",
        "        for i in range(0, len(self.rotations)):\n",
        "            self.rotations_interps.append(Slerp(self.timestamps, self.rotations[i]))\n",
        "        self.num_objects = rotation_vectors.shape[1]\n",
        "    def __call__(self, target_time):\n",
        "        \"\"\"\n",
        "        Interpolate rotation vectors for each object at specified target times.\n",
        "        \n",
        "        :param target_times: Array of target times for interpolation.\n",
        "        :return: Interpolated rotation vectors of shape [len(target_times), N, 3].\n",
        "        \"\"\" \n",
        "        # target_times = np.atleast_1d(target_times)\n",
        "        interpolated_rotations = []\n",
        "        for i in range(0, len(self.rotations_interps)):\n",
        "            interpolated_rotations.append(self.rotations_interps[i](target_time).as_rotvec())\n",
        "        return np.array(interpolated_rotations)\n",
        "def load_motion_data_slerp(motionData_path, main_guy):\n",
        "    # load motion data\n",
        "    motiondata = joblib.load(open(motionData_path, \"rb\"))\n",
        "    frames = sorted(list(motiondata.keys()))\n",
        "    per_frame_smpl_data = {\"time\":[], \"beta\":[], \"pose\":[], \"position\":[], \"camera\":[], \"root_position\":[]}\n",
        "    for i in range(0, len(frames)):\n",
        "        frame_i = motiondata[frames[i]]\n",
        "        pose_i = frame_i[\"pose\"] # this stores a list of poses for characters in the \n",
        "        center_i = frame_i[\"center\"]\n",
        "        scale_i = frame_i[\"scale\"]\n",
        "        smpl_i = frame_i[\"smpl\"]\n",
        "        ids_i = frame_i['tid']\n",
        "        threeD_joints_i = frame_i['3d_joints']\n",
        "        camera_i = frame_i['camera']\n",
        "        # only care about the guy of interest\n",
        "        # print(ids_i)\n",
        "        if main_guy not in ids_i:\n",
        "            continue\n",
        "        pose_i_main = pose_i[ids_i.index(main_guy)]\n",
        "        threeD_joints_i_main = threeD_joints_i[ids_i.index(main_guy)] # shape is (43, 3)\n",
        "        smpl_i_main = smpl_i[ids_i.index(main_guy)] # dictionary with keys ['global_orient', 'body_pose', 'betas']\n",
        "        camera_i_main = camera_i[ids_i.index(main_guy)]\n",
        "        # get the smpl parameters\n",
        "        global_orient = smpl_i_main[\"global_orient\"] # defined root orentation (rotation matrix )\n",
        "        body_pose = smpl_i_main[\"body_pose\"] # defines the rotation matrix of the 23 joints (generated using Rodrigues formula)\n",
        "        beta = smpl_i_main[\"betas\"] # shape is (10,)\n",
        "        # convert rotation matrices in body pose to axis-angle representation\n",
        "        body_pose_aa = np.zeros((body_pose.shape[0], 3))\n",
        "        for jj in range(body_pose.shape[0]):\n",
        "            body_pose_aa[jj] = cv2.Rodrigues(body_pose[jj])[0].squeeze()\n",
        "        # rotate global_orient by 180 degrees by x axis\n",
        "        # global_orient[0] = cv2.Rodrigues(np.array([np.pi, 0, 0]))[0].squeeze() @ global_orient[0]\n",
        "        global_orient_aa = np.array([cv2.Rodrigues(global_orient[0])[0].squeeze()])\n",
        "        # check for discontinuities in the global orientation\n",
        "        if global_orient_aa[0, 0] < 0:\n",
        "            global_orient_aa *= -1\n",
        "                    \n",
        "        #             global_orient_aa[0][jj] *= -1\n",
        "        # global_orient_aa[np.where(global_orient_aa > np.pi)] -= 2*np.pi\n",
        "        # global_orient_aa[np.where(global_orient_aa < -np.pi)] += 2*np.pi\n",
        "        body_pose_aa = np.concatenate([global_orient_aa, body_pose_aa], axis=0)\n",
        "        # load data related to smpl model\n",
        "        per_frame_smpl_data[\"time\"].append(frame_i[\"time\"])\n",
        "        per_frame_smpl_data[\"beta\"].append(beta)\n",
        "        per_frame_smpl_data[\"pose\"].append(body_pose_aa)\n",
        "        per_frame_smpl_data[\"position\"].append(np.zeros([3, ]))\n",
        "        per_frame_smpl_data[\"camera\"].append(camera_i_main)\n",
        "        per_frame_smpl_data[\"root_position\"].append(threeD_joints_i_main[0])\n",
        "        \n",
        "    per_frame_smpl_data[\"beta\"] = np.array(per_frame_smpl_data[\"beta\"])\n",
        "    per_frame_smpl_data[\"pose\"] = np.array(per_frame_smpl_data[\"pose\"])\n",
        "    per_frame_smpl_data[\"position\"] = np.array(per_frame_smpl_data[\"position\"])\n",
        "    per_frame_smpl_data[\"time\"] = np.array(per_frame_smpl_data[\"time\"])\n",
        "    per_frame_smpl_data[\"camera\"] = np.array(per_frame_smpl_data[\"camera\"])\n",
        "    per_frame_smpl_data[\"camera\"] = per_frame_smpl_data[\"camera\"] - per_frame_smpl_data[\"camera\"][0:1]\n",
        "    per_frame_smpl_data[\"camera\"] *= 1/100\n",
        "    per_frame_smpl_data[\"root_position\"] = np.array(per_frame_smpl_data[\"root_position\"])\n",
        "    per_frame_smpl_data[\"root_position\"] -= per_frame_smpl_data[\"root_position\"][0:1]\n",
        "\n",
        "    per_frame_smpl_data[\"pose_interp\"] = SlerpInterpolationMultiObject(per_frame_smpl_data[\"time\"], per_frame_smpl_data[\"pose\"])\n",
        "    per_frame_smpl_data[\"beta_interp\"] = interp1d(per_frame_smpl_data[\"time\"], per_frame_smpl_data[\"beta\"], axis=0, fill_value=\"extrapolate\", bounds_error=False)\n",
        "    per_frame_smpl_data[\"position_interp\"] = interp1d(per_frame_smpl_data[\"time\"], per_frame_smpl_data[\"position\"], axis=0, fill_value=\"extrapolate\", bounds_error=False)\n",
        "    per_frame_smpl_data[\"camera_interp\"] = interp1d(per_frame_smpl_data[\"time\"], per_frame_smpl_data[\"camera\"], axis=0, fill_value=\"extrapolate\", bounds_error=False)\n",
        "    per_frame_smpl_data[\"root_position_interp\"] = interp1d(per_frame_smpl_data[\"time\"], per_frame_smpl_data[\"root_position\"], axis=0, fill_value=\"extrapolate\", bounds_error=False)\n",
        "    return per_frame_smpl_data\n",
        "# inputs\n",
        "motionData_path = \"./4D-Humans_outputs/results/demo_truck_stand12.pkl\"\n",
        "main_guy = 1\n",
        "motion_data_1 = load_motion_data_slerp(motionData_path, 1)\n",
        "motion_data_2 = load_motion_data_slerp(motionData_path, 2)\n",
        "    # print(per_frame_smpl_data[\"beta\"].shape, per_frame_smpl_data[\"pose\"].shape, per_frame_smpl_data[\"position\"].shape)"
      ]
    },
    {
      "cell_type": "code",
      "execution_count": 18,
      "metadata": {},
      "outputs": [
        {
          "name": "stdout",
          "output_type": "stream",
          "text": [
            "(24, 3)\n"
          ]
        },
        {
          "data": {
            "text/plain": [
              "[<matplotlib.lines.Line2D at 0x158082710>]"
            ]
          },
          "execution_count": 18,
          "metadata": {},
          "output_type": "execute_result"
        },
        {
          "data": {
            "image/png": "[encoded data removed]",
            "text/plain": [
              "<Figure size 640x480 with 1 Axes>"
            ]
          },
          "metadata": {},
          "output_type": "display_data"
        }
      ],
      "source": [
        "print(smpl.J.shape)\n",
        "plt.plot(smpl.J[:, 0], smpl.J[:, 1], 'o')"
      ]
    },
    {
      "cell_type": "code",
      "execution_count": null,
      "metadata": {},
      "outputs": [],
      "source": []
    },
    {
      "cell_type": "code",
      "execution_count": 8,
      "metadata": {},
      "outputs": [],
      "source": [
        "def update_mesh():\n",
        "    global mesh_list, params_list, simulator_t\n",
        "    for i in range(0, len(mesh_list)):\n",
        "        beta = params_list[i][\"beta_interp\"](simulator_t)\n",
        "        pose = params_list[i][\"pose_interp\"](simulator_t)\n",
        "        position = params_list[i][\"position_interp\"](simulator_t)\n",
        "        smpl.set_params(beta=beta, pose=pose, trans=position)\n",
        "        translated_verts = smpl.verts\n",
        "        translated_verts[:, 1] += np.expand_dims(params_list[i][\"root_position_interp\"](simulator_t), axis=0)[:, 1]\n",
        "        mesh_list[i].update_vertex_positions(translated_verts)\n",
        "# SM1.update_vertex_positions(V1)\n",
        "def guii():\n",
        "    global simulator_t, simulator_to_end_t\n",
        "    # psim.TextUnformatted(\"Some sample text\")\n",
        "    time_changed, simulator_t = psim.SliderFloat(\"time\", simulator_t, v_min=0, v_max=simulator_to_end_t)\n",
        "    if time_changed:\n",
        "        update_mesh()\n",
        "params_list = [motion_data_1, motion_data_2]\n",
        "mesh_list = []\n",
        "ps.set_verbosity(0)\n",
        "ps.set_SSAA_factor(4)\n",
        "ps.set_program_name(\"Interactive Viewer\")\n",
        "ps.set_ground_plane_mode(\"none\")\n",
        "ps.set_view_projection_mode(\"orthographic\")\n",
        "ps.set_autocenter_structures(False)\n",
        "ps.set_autoscale_structures(False)\n",
        "ps.set_front_dir(\"z_front\")\n",
        "ps.set_up_dir(\"neg_y_up\")\n",
        "ps.set_background_color([0, 0, 0])\n",
        "ps.init()\n",
        "simulator_t = 0\n",
        "simulator_to_end_t = params_list[0][\"time\"][-1]\n",
        "# iterate through each clip to create the mesh + load the parameters\n",
        "for i in range(0, len(params_list)):\n",
        "    params = params_list[i]\n",
        "    smpl.set_params(beta=params[\"beta\"][0], pose=params[\"pose\"][0], trans=params[\"position\"][0])\n",
        "    mesh_list.append(ps.register_surface_mesh(\"mesh_{}\".format(i), smpl.verts, smpl.faces, color=[0.9,0.9,0.9], smooth_shade=True, edge_width=0.25, ))\n",
        "\n",
        "ps.set_user_callback(guii)\n",
        "ps.show()"
      ]
    }
  ],
  "metadata": {
    "accelerator": "GPU",
    "colab": {
      "gpuType": "T4",
      "provenance": []
    },
    "kernelspec": {
      "display_name": "Python 3",
      "name": "python3"
    },
    "language_info": {
      "codemirror_mode": {
        "name": "ipython",
        "version": 3
      },
      "file_extension": ".py",
      "mimetype": "text/x-python",
      "name": "python",
      "nbconvert_exporter": "python",
      "pygments_lexer": "ipython3",
      "version": "3.11.5"
    }
  },
  "nbformat": 4,
  "nbformat_minor": 0
}
