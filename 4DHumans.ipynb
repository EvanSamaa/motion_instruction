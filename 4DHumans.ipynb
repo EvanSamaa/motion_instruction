{
  "cells": [
    {
      "cell_type": "markdown",
      "metadata": {
        "id": "KH6h3ljStKEV"
      },
      "source": [
        "# 4DHumans Demo Notebook\n",
        "This a demo notebook for our paper \"4DHumans: Reconstructing and Tracking Humans with Transformers\".\n",
        "\n",
        "<p align=\"left\"><img src=\"https://github.com/shubham-goel/4D-Humans/raw/main/assets/teaser.png\" width=\"800\"></p>\n",
        "\n",
        "<p align=\"left\"><img src=\"https://github.com/brjathu/PHALP/raw/master/assets/imgs/teaser.gif\" width=\"800\"></p>\n",
        "\n",
        "Project webpage: https://shubham-goel.github.io/4dhumans/\n",
        "\n",
        "Github repo: https://github.com/shubham-goel/4D-Humans\n",
        "\n",
        "Instructions:\n",
        "\n",
        "1. Enable the GPU Runtime (Runtime > Change Runtime Type > GPU)\n",
        "2. Clone the repository and install depencencies\n",
        "3. Run the demo\n",
        "4. Visualize the video\n"
      ]
    },
    {
      "cell_type": "markdown",
      "metadata": {
        "id": "5Grc-NDsvJ2d"
      },
      "source": [
        "# Clone the repository and install dependencies"
      ]
    },
    {
      "cell_type": "code",
      "execution_count": null,
      "metadata": {
        "id": "nHlxjgrdtePu"
      },
      "outputs": [],
      "source": [
        "# Clone the main repo\n",
        "%%capture\n",
        "! git clone https://github.com/shubham-goel/4D-Humans.git 4D-Humans\n",
        "%cd 4D-Humans"
      ]
    },
    {
      "cell_type": "code",
      "execution_count": null,
      "metadata": {
        "colab": {
          "base_uri": "https://localhost:8080/",
          "height": 1000
        },
        "id": "urCqVANctz2s",
        "outputId": "f98d4314-09a5-4227-e71e-b08ebbb16b29"
      },
      "outputs": [],
      "source": [
        "!pip install torch\n",
        "!pip install -e .[all]\n",
        "!wget https://github.com/classner/up/raw/master/models/3D/basicModel_neutral_lbs_10_207_0_v1.0.0.pkl\n",
        "!mkdir data/\n",
        "!mv basicModel_neutral_lbs_10_207_0_v1.0.0.pkl data/"
      ]
    },
    {
      "cell_type": "markdown",
      "metadata": {
        "id": "DKpHRz1BvdlZ"
      },
      "source": [
        "# Run the demo"
      ]
    },
    {
      "cell_type": "code",
      "execution_count": null,
      "metadata": {
        "colab": {
          "base_uri": "https://localhost:8080/"
        },
        "id": "jpu-yVB0vw1N",
        "outputId": "234bc32a-6c5f-43eb-e96c-7fe38ed18518"
      },
      "outputs": [],
      "source": [
        "# run hmr2 on a folder of images\n",
        "!python demo.py \\\n",
        "--img_folder example_data/images \\\n",
        "--out_folder demo_out \\\n",
        "--batch_size=48 --side_view --save_mesh"
      ]
    },
    {
      "cell_type": "markdown",
      "metadata": {
        "id": "o0BhB4EzwhKb"
      },
      "source": [
        "### Visualize the reconstructions"
      ]
    },
    {
      "cell_type": "code",
      "execution_count": null,
      "metadata": {
        "colab": {
          "base_uri": "https://localhost:8080/",
          "height": 273
        },
        "id": "5L3jrsbLwme3",
        "outputId": "0b57587f-aba5-4976-8667-349f1b17725b"
      },
      "outputs": [],
      "source": [
        "from IPython.display import Image, display\n",
        "import os\n",
        "# https://colab.research.google.com/drive/1Ex4gE5v1bPR3evfhtG7sDHxQGsWwNwby?usp=sharing\n",
        "output_images = [\"demo_out/\" + i for i in os.listdir(\"demo_out/\") if \".png\" in i]\n",
        "for img in output_images:\n",
        "  display(Image(img))\n",
        "\n"
      ]
    },
    {
      "cell_type": "markdown",
      "metadata": {
        "id": "tIL8JadpwE0s"
      },
      "source": [
        "# Video Demo"
      ]
    },
    {
      "cell_type": "markdown",
      "metadata": {
        "id": "DVSxpGVrePtl"
      },
      "source": [
        "### Install PHALP"
      ]
    },
    {
      "cell_type": "code",
      "execution_count": null,
      "metadata": {
        "colab": {
          "base_uri": "https://localhost:8080/"
        },
        "id": "p4sNUOQZwG82",
        "outputId": "d8ddd141-874b-4f85-c7c2-036d4971eb9a"
      },
      "outputs": [],
      "source": [
        "!pip install git+https://github.com/brjathu/PHALP.git"
      ]
    },
    {
      "cell_type": "markdown",
      "metadata": {
        "id": "MQc_CVQRegJT"
      },
      "source": [
        "### Track and visualize"
      ]
    },
    {
      "cell_type": "code",
      "execution_count": null,
      "metadata": {
        "colab": {
          "base_uri": "https://localhost:8080/"
        },
        "id": "XgkRdPF6yTBC",
        "outputId": "6d7a872c-5cde-46cd-e32a-452ddeb5ece4"
      },
      "outputs": [],
      "source": [
        "!python track.py video.source=\"example_data/videos/gymnasts.mp4\" video.start_frame=10 video.end_frame=60\n",
        "# python track.py video.source=\"/scratch/ondemand27/evanpan/data/motion_tracking_data/nc_bigger_huge_biggest.mp4\" \n",
        "# python track.py video.source=\"/scratch/ondemand27/evanpan/data/motion_tracking_data/truck_stand12.mp4\" \n",
        "# python track.py video.source=\"/scratch/ondemand27/evanpan/data/motion_tracking_data/biggerspin123.mp4\" \n"
      ]
    },
    {
      "cell_type": "code",
      "execution_count": 1,
      "metadata": {
        "colab": {
          "base_uri": "https://localhost:8080/"
        },
        "id": "zGLvO4sz5o2S",
        "outputId": "373410d8-7c03-4039-c442-b418ef4c3bd6"
      },
      "outputs": [
        {
          "name": "stdout",
          "output_type": "stream",
          "text": [
            "^C\n"
          ]
        },
        {
          "ename": "FileNotFoundError",
          "evalue": "[Errno 2] No such file or directory: 'outputs/PHALP_gymnasts_ffmpeg.mp4'",
          "output_type": "error",
          "traceback": [
            "\u001b[0;31m---------------------------------------------------------------------------\u001b[0m",
            "\u001b[0;31mFileNotFoundError\u001b[0m                         Traceback (most recent call last)",
            "Cell \u001b[0;32mIn[1], line 12\u001b[0m\n\u001b[1;32m      7\u001b[0m   \u001b[38;5;28;01mreturn\u001b[39;00m HTML(data\u001b[38;5;241m=\u001b[39m\u001b[38;5;124m'''\u001b[39m\u001b[38;5;124m<video width=\u001b[39m\u001b[38;5;124m\"\u001b[39m\u001b[38;5;132;01m{0}\u001b[39;00m\u001b[38;5;124m\"\u001b[39m\u001b[38;5;124m height=\u001b[39m\u001b[38;5;124m\"\u001b[39m\u001b[38;5;132;01m{1}\u001b[39;00m\u001b[38;5;124m\"\u001b[39m\u001b[38;5;124m alt=\u001b[39m\u001b[38;5;124m\"\u001b[39m\u001b[38;5;124mtest\u001b[39m\u001b[38;5;124m\"\u001b[39m\u001b[38;5;124m controls>\u001b[39m\n\u001b[1;32m      8\u001b[0m \u001b[38;5;124m                      <source src=\u001b[39m\u001b[38;5;124m\"\u001b[39m\u001b[38;5;124mdata:video/mp4;base64,\u001b[39m\u001b[38;5;132;01m{2}\u001b[39;00m\u001b[38;5;124m\"\u001b[39m\u001b[38;5;124m type=\u001b[39m\u001b[38;5;124m\"\u001b[39m\u001b[38;5;124mvideo/mp4\u001b[39m\u001b[38;5;124m\"\u001b[39m\u001b[38;5;124m />\u001b[39m\n\u001b[1;32m      9\u001b[0m \u001b[38;5;124m                      </video>\u001b[39m\u001b[38;5;124m'''\u001b[39m\u001b[38;5;241m.\u001b[39mformat(width, height, video_encoded\u001b[38;5;241m.\u001b[39mdecode(\u001b[38;5;124m'\u001b[39m\u001b[38;5;124mascii\u001b[39m\u001b[38;5;124m'\u001b[39m)))\n\u001b[1;32m     11\u001b[0m get_ipython()\u001b[38;5;241m.\u001b[39msystem(\u001b[38;5;124m'\u001b[39m\u001b[38;5;124mffmpeg -y -hide_banner -loglevel error -i outputs/PHALP_gymnasts.mp4 outputs/PHALP_gymnasts_ffmpeg.mp4\u001b[39m\u001b[38;5;124m'\u001b[39m)\n\u001b[0;32m---> 12\u001b[0m \u001b[43mshow_local_mp4_video\u001b[49m\u001b[43m(\u001b[49m\u001b[38;5;124;43m'\u001b[39;49m\u001b[38;5;124;43moutputs/PHALP_gymnasts_ffmpeg.mp4\u001b[39;49m\u001b[38;5;124;43m'\u001b[39;49m\u001b[43m,\u001b[49m\u001b[43m \u001b[49m\u001b[43mwidth\u001b[49m\u001b[38;5;241;43m=\u001b[39;49m\u001b[38;5;241;43m960\u001b[39;49m\u001b[43m,\u001b[49m\u001b[43m \u001b[49m\u001b[43mheight\u001b[49m\u001b[38;5;241;43m=\u001b[39;49m\u001b[38;5;241;43m540\u001b[39;49m\u001b[43m)\u001b[49m\n",
            "Cell \u001b[0;32mIn[1], line 6\u001b[0m, in \u001b[0;36mshow_local_mp4_video\u001b[0;34m(file_name, width, height)\u001b[0m\n\u001b[1;32m      4\u001b[0m \u001b[38;5;28;01mimport\u001b[39;00m \u001b[38;5;21;01mbase64\u001b[39;00m\n\u001b[1;32m      5\u001b[0m \u001b[38;5;28;01mfrom\u001b[39;00m \u001b[38;5;21;01mIPython\u001b[39;00m\u001b[38;5;21;01m.\u001b[39;00m\u001b[38;5;21;01mdisplay\u001b[39;00m \u001b[38;5;28;01mimport\u001b[39;00m HTML\n\u001b[0;32m----> 6\u001b[0m video_encoded \u001b[38;5;241m=\u001b[39m base64\u001b[38;5;241m.\u001b[39mb64encode(\u001b[43mio\u001b[49m\u001b[38;5;241;43m.\u001b[39;49m\u001b[43mopen\u001b[49m\u001b[43m(\u001b[49m\u001b[43mfile_name\u001b[49m\u001b[43m,\u001b[49m\u001b[43m \u001b[49m\u001b[38;5;124;43m'\u001b[39;49m\u001b[38;5;124;43mrb\u001b[39;49m\u001b[38;5;124;43m'\u001b[39;49m\u001b[43m)\u001b[49m\u001b[38;5;241m.\u001b[39mread())\n\u001b[1;32m      7\u001b[0m \u001b[38;5;28;01mreturn\u001b[39;00m HTML(data\u001b[38;5;241m=\u001b[39m\u001b[38;5;124m'''\u001b[39m\u001b[38;5;124m<video width=\u001b[39m\u001b[38;5;124m\"\u001b[39m\u001b[38;5;132;01m{0}\u001b[39;00m\u001b[38;5;124m\"\u001b[39m\u001b[38;5;124m height=\u001b[39m\u001b[38;5;124m\"\u001b[39m\u001b[38;5;132;01m{1}\u001b[39;00m\u001b[38;5;124m\"\u001b[39m\u001b[38;5;124m alt=\u001b[39m\u001b[38;5;124m\"\u001b[39m\u001b[38;5;124mtest\u001b[39m\u001b[38;5;124m\"\u001b[39m\u001b[38;5;124m controls>\u001b[39m\n\u001b[1;32m      8\u001b[0m \u001b[38;5;124m                    <source src=\u001b[39m\u001b[38;5;124m\"\u001b[39m\u001b[38;5;124mdata:video/mp4;base64,\u001b[39m\u001b[38;5;132;01m{2}\u001b[39;00m\u001b[38;5;124m\"\u001b[39m\u001b[38;5;124m type=\u001b[39m\u001b[38;5;124m\"\u001b[39m\u001b[38;5;124mvideo/mp4\u001b[39m\u001b[38;5;124m\"\u001b[39m\u001b[38;5;124m />\u001b[39m\n\u001b[1;32m      9\u001b[0m \u001b[38;5;124m                    </video>\u001b[39m\u001b[38;5;124m'''\u001b[39m\u001b[38;5;241m.\u001b[39mformat(width, height, video_encoded\u001b[38;5;241m.\u001b[39mdecode(\u001b[38;5;124m'\u001b[39m\u001b[38;5;124mascii\u001b[39m\u001b[38;5;124m'\u001b[39m)))\n",
            "\u001b[0;31mFileNotFoundError\u001b[0m: [Errno 2] No such file or directory: 'outputs/PHALP_gymnasts_ffmpeg.mp4'"
          ]
        }
      ],
      "source": [
        "# Display the reconstruction video\n",
        "def show_local_mp4_video(file_name, width=640, height=480):\n",
        "  import io\n",
        "  import base64\n",
        "  from IPython.display import HTML\n",
        "  video_encoded = base64.b64encode(io.open(file_name, 'rb').read())\n",
        "  return HTML(data='''<video width=\"{0}\" height=\"{1}\" alt=\"test\" controls>\n",
        "                      <source src=\"data:video/mp4;base64,{2}\" type=\"video/mp4\" />\n",
        "                      </video>'''.format(width, height, video_encoded.decode('ascii')))\n",
        "\n",
        "!ffmpeg -y -hide_banner -loglevel error -i outputs/PHALP_gymnasts.mp4 outputs/PHALP_gymnasts_ffmpeg.mp4\n",
        "show_local_mp4_video('outputs/PHALP_gymnasts_ffmpeg.mp4', width=960, height=540)"
      ]
    }
  ],
  "metadata": {
    "accelerator": "GPU",
    "colab": {
      "gpuType": "T4",
      "provenance": []
    },
    "kernelspec": {
      "display_name": "Python 3",
      "name": "python3"
    },
    "language_info": {
      "codemirror_mode": {
        "name": "ipython",
        "version": 3
      },
      "file_extension": ".py",
      "mimetype": "text/x-python",
      "name": "python",
      "nbconvert_exporter": "python",
      "pygments_lexer": "ipython3",
      "version": "3.10.12"
    }
  },
  "nbformat": 4,
  "nbformat_minor": 0
}
